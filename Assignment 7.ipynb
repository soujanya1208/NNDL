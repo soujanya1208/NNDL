{
  "nbformat": 4,
  "nbformat_minor": 0,
  "metadata": {
    "colab": {
      "name": "Welcome To Colaboratory",
      "provenance": [],
      "collapsed_sections": [],
      "include_colab_link": true
    },
    "kernelspec": {
      "display_name": "Python 3",
      "name": "python3"
    }
  },
  "cells": [
    {
      "cell_type": "markdown",
      "metadata": {
        "id": "view-in-github",
        "colab_type": "text"
      },
      "source": [
        "<a href=\"https://colab.research.google.com/github/soujanya1208/NNDL/blob/main/Assignment%207.ipynb\" target=\"_parent\"><img src=\"https://colab.research.google.com/assets/colab-badge.svg\" alt=\"Open In Colab\"/></a>"
      ]
    },
    {
      "cell_type": "code",
      "metadata": {
        "id": "409WZq-duCyt"
      },
      "source": [
        " import numpy as np\n",
        "import pandas as pd"
      ],
      "execution_count": null,
      "outputs": []
    },
    {
      "cell_type": "code",
      "metadata": {
        "id": "tdQSO8N2uDch"
      },
      "source": [
        " data = [[0.2,3.4],[0.4,3.8],[0.6,4.2],[0.8,4.6]]\n",
        " \n",
        "data = np.array(data)"
      ],
      "execution_count": null,
      "outputs": []
    },
    {
      "cell_type": "code",
      "metadata": {
        "id": "eI7-1HT2uHvP",
        "outputId": "7a83d05e-7069-4413-fcb4-b94f5d364ff1",
        "colab": {
          "base_uri": "https://localhost:8080/"
        }
      },
      "source": [
        " data"
      ],
      "execution_count": 41,
      "outputs": [
        {
          "output_type": "execute_result",
          "data": {
            "text/plain": [
              "array([[0.2, 3.4],\n",
              "       [0.4, 3.8],\n",
              "       [0.6, 4.2],\n",
              "       [0.8, 4.6]])"
            ]
          },
          "metadata": {
            "tags": []
          },
          "execution_count": 41
        }
      ]
    },
    {
      "cell_type": "code",
      "metadata": {
        "id": "KE7c2t3cuLDR"
      },
      "source": [
        " data_x = []\n",
        "data_y = []\n",
        "for i in range(0,len(data)):\n",
        "  data_x.append(data[i][0])\n",
        "for i in range(0,len(data)):\n",
        "  data_y.append(data[i][1])\n",
        "data_x=np.array(data_x)\n",
        "data_y=np.array(data_y)"
      ],
      "execution_count": null,
      "outputs": []
    },
    {
      "cell_type": "code",
      "metadata": {
        "id": "qtxi64acuN7f"
      },
      "source": [
        " m = 1\n",
        "c = -1\n",
        "iter = 1\n",
        "epochs = 10000\n",
        "alpha = 0.1\n",
        "ns = len(data)\n",
        "error = []"
      ],
      "execution_count": null,
      "outputs": []
    },
    {
      "cell_type": "code",
      "metadata": {
        "id": "ccGqU9AXuTMP"
      },
      "source": [
        " import matplotlib.pyplot as plt"
      ],
      "execution_count": null,
      "outputs": []
    },
    {
      "cell_type": "code",
      "metadata": {
        "id": "tFjGUqo8uXTC"
      },
      "source": [
        " while (iter<=epochs):\n",
        "  # running for loop to calculate and update model parameters for each sample\n",
        "  der_m = 0\n",
        "  der_c = 0\n",
        "  err = 0\n",
        "  for i in range(0,len(data)):\n",
        "    # calculating derivatives of m and c\n",
        "    der_m += ((data_y[i] - (m * data_x[i]) - c ))*(data_x[i])\n",
        "    der_c +=  (data_y[i] - (m * data_x[i]) - c )\n",
        " \n",
        "  # computing error rate with present m and c values \n",
        "  # err = (der_c)**2\n",
        "  # err = (err)/(2*ns)\n",
        "  # error.append(err)\n",
        " \n",
        " \n",
        "  der_m = (-1)*(1/ns)*der_m\n",
        "  der_c = (-1)*(1/ns)*der_c\n",
        " \n",
        "  # calculating change in m and c\n",
        "  change_m = (-1)*alpha*der_m\n",
        "  change_c = (-1)*alpha*der_c\n",
        " \n",
        "  #updating m and c\n",
        "  m = m + change_m\n",
        "  c = c + change_c\n",
        " \n",
        " \n",
        "  #incrementing no of iterations\n",
        "  iter = iter + 1"
      ],
      "execution_count": null,
      "outputs": []
    },
    {
      "cell_type": "code",
      "metadata": {
        "id": "IhDHd15cub47",
        "outputId": "50000b18-1ab0-4534-d711-b3ad8cb7f32e",
        "colab": {
          "base_uri": "https://localhost:8080/"
        }
      },
      "source": [
        " print(m,c)"
      ],
      "execution_count": 42,
      "outputs": [
        {
          "output_type": "stream",
          "text": [
            "2.0000000000000426 2.9999999999999756\n"
          ],
          "name": "stdout"
        }
      ]
    },
    {
      "cell_type": "code",
      "metadata": {
        "id": "ItIh_sO-ueem",
        "outputId": "6a5f71b0-2474-4253-e167-d0c8f91f2a4e",
        "colab": {
          "base_uri": "https://localhost:8080/"
        }
      },
      "source": [
        " pred = []\n",
        "print(\"predicted\",\" original\")\n",
        "for i in range(0,len(data)):\n",
        "  pred.append(m*data_x[i]+c)\n",
        "  \n",
        "pred"
      ],
      "execution_count": 43,
      "outputs": [
        {
          "output_type": "stream",
          "text": [
            "predicted  original\n"
          ],
          "name": "stdout"
        },
        {
          "output_type": "execute_result",
          "data": {
            "text/plain": [
              "[3.3999999999999844, 3.7999999999999927, 4.200000000000001, 4.60000000000001]"
            ]
          },
          "metadata": {
            "tags": []
          },
          "execution_count": 43
        }
      ]
    },
    {
      "cell_type": "code",
      "metadata": {
        "id": "PMQyjl_LuiEs",
        "outputId": "11888cb7-036b-4aef-f03f-294b86b57cbb",
        "colab": {
          "base_uri": "https://localhost:8080/",
          "height": 236
        }
      },
      "source": [
        " \n",
        "plt.scatter(data_x,data_y,label=\"Original Data points\")\n",
        "plt.plot(data_x,pred,'r',label=\"predicted regression line\")\n",
        "plt.title(\"Linear Regression using Batch Gradient Descent\")\n",
        "plt.xlabel(\"Data x\")\n",
        "plt.ylabel(\"Data y\")\n",
        "plt.grid()\n",
        "plt.legend()\n",
        "plt.show()"
      ],
      "execution_count": 44,
      "outputs": [
        {
          "output_type": "display_data",
          "data": {
            "image/png": "[encoded data removed]",
            "text/plain": [
              "<Figure size 432x288 with 1 Axes>"
            ]
          },
          "metadata": {
            "tags": [],
            "needs_background": "light"
          }
        }
      ]
    },
    {
      "cell_type": "code",
      "metadata": {
        "id": "V2s_Z7lfumGc",
        "outputId": "cf0674d0-de0a-4a38-b660-4ffce6310c7d",
        "colab": {
          "base_uri": "https://localhost:8080/"
        }
      },
      "source": [
        " mse = 0\n",
        "for i in range(0,len(data_x)):\n",
        "  mse += (data_y[i] - (m*data_x[i]) - c)**2\n",
        "mse = mse/len(data)\n",
        "mse"
      ],
      "execution_count": 46,
      "outputs": [
        {
          "output_type": "execute_result",
          "data": {
            "text/plain": [
              "9.929786644469486e-29"
            ]
          },
          "metadata": {
            "tags": []
          },
          "execution_count": 46
        }
      ]
    }
  ]
}