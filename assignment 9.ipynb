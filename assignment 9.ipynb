{
  "nbformat": 4,
  "nbformat_minor": 0,
  "metadata": {
    "colab": {
      "name": "Welcome To Colaboratory",
      "provenance": [],
      "collapsed_sections": [],
      "include_colab_link": true
    },
    "kernelspec": {
      "display_name": "Python 3",
      "name": "python3"
    }
  },
  "cells": [
    {
      "cell_type": "markdown",
      "metadata": {
        "id": "view-in-github",
        "colab_type": "text"
      },
      "source": [
        "<a href=\"https://colab.research.google.com/github/soujanya1208/NNDL/blob/main/assignment%209.ipynb\" target=\"_parent\"><img src=\"https://colab.research.google.com/assets/colab-badge.svg\" alt=\"Open In Colab\"/></a>"
      ]
    },
    {
      "cell_type": "code",
      "metadata": {
        "id": "B-L6G1yuvi_g"
      },
      "source": [
        " import numpy as np\n",
        "import pandas as pd"
      ],
      "execution_count": null,
      "outputs": []
    },
    {
      "cell_type": "code",
      "metadata": {
        "id": "U92dfhp0vjup"
      },
      "source": [
        " data = [[0.2,3.4],[0.4,3.8],[0.6,4.2],[0.8,4.6]]\n",
        "data = np.array(data)"
      ],
      "execution_count": null,
      "outputs": []
    },
    {
      "cell_type": "code",
      "metadata": {
        "colab": {
          "base_uri": "https://localhost:8080/"
        },
        "id": "BWmuyul7vnsD",
        "outputId": "9062f226-8958-47c7-a237-c2f6c24c7bcf"
      },
      "source": [
        " data"
      ],
      "execution_count": 47,
      "outputs": [
        {
          "output_type": "execute_result",
          "data": {
            "text/plain": [
              "array([[0.2, 3.4],\n",
              "       [0.4, 3.8],\n",
              "       [0.6, 4.2],\n",
              "       [0.8, 4.6]])"
            ]
          },
          "metadata": {
            "tags": []
          },
          "execution_count": 47
        }
      ]
    },
    {
      "cell_type": "code",
      "metadata": {
        "id": "kPYIgtFcvq_5"
      },
      "source": [
        " data_x = []\n",
        "data_y = []\n",
        "for i in range(0,len(data)):\n",
        "  data_x.append(data[i][0])\n",
        "for i in range(0,len(data)):\n",
        "  data_y.append(data[i][1])\n",
        "data_x=np.array(data_x)\n",
        "data_y=np.array(data_y)"
      ],
      "execution_count": null,
      "outputs": []
    },
    {
      "cell_type": "code",
      "metadata": {
        "id": "kxC_zT_yvuc4"
      },
      "source": [
        " m = 1\n",
        "c = -1\n",
        "iter = 1\n",
        "epochs = 10000\n",
        "alpha = 0.1\n",
        "ns = len(data)\n",
        " \n",
        "vm = 0\n",
        "vc = 0\n",
        "moment = 0.9"
      ],
      "execution_count": null,
      "outputs": []
    },
    {
      "cell_type": "code",
      "metadata": {
        "colab": {
          "base_uri": "https://localhost:8080/"
        },
        "id": "L-2OS3T3vyYy",
        "outputId": "4252fc3c-a45f-4fa0-cc09-5eff44655a8e"
      },
      "source": [
        " import matplotlib.pyplot as plt\n",
        "# while loop is runned until iter reaches epochs\n",
        "while (iter<=epochs):\n",
        "  # running for loop to calculate and update model parameters for each sample\n",
        "  for i in range(0,len(data)):\n",
        " \n",
        "    #  calculating error and storing in an list\n",
        "    # err = (0.5) * ((data_y[i] - (m * data_x[i]) - c))**2\n",
        "    # error.append(err)\n",
        " \n",
        "    # calculating derivatives of m and c\n",
        "    der_m = (-1) * ((data_y[i] - (m * data_x[i]) - c ))*(data_x[i])\n",
        "    der_c = (-1) * (data_y[i] - (m * data_x[i]) - c )\n",
        "    # print(\"derivatives at \",i,\"   \",der_m,der_c)\n",
        " \n",
        "    # calculating change in m and c\n",
        "    vm = (moment * vm) - (alpha * der_m)\n",
        "    vc = (moment * vc) - (alpha * der_c)\n",
        "    # print(\"changes at \",i,vm,vc)\n",
        " \n",
        "    #updating m and c\n",
        "    m = m + vm\n",
        "    c = c + vc\n",
        "    # print(\"values at\",i,m,c)\n",
        " \n",
        "    #incrementing no of iterations\n",
        "  iter = iter + 1\n",
        "print(m,c)"
      ],
      "execution_count": 48,
      "outputs": [
        {
          "output_type": "stream",
          "text": [
            "2.0000000000000426 2.9999999999999756\n"
          ],
          "name": "stdout"
        }
      ]
    },
    {
      "cell_type": "code",
      "metadata": {
        "colab": {
          "base_uri": "https://localhost:8080/"
        },
        "id": "Miv-lt-Uv3FC",
        "outputId": "6542fb81-15b8-4c02-f42f-4b68d3a9cdea"
      },
      "source": [
        " mse = 0\n",
        "for i in range(0,len(data_x)):\n",
        "  mse += (data_y[i] - (m*data_x[i]) - c)**2\n",
        " \n",
        "mse = mse/len(data)\n",
        "mse"
      ],
      "execution_count": 49,
      "outputs": [
        {
          "output_type": "execute_result",
          "data": {
            "text/plain": [
              "9.929786644469486e-29"
            ]
          },
          "metadata": {
            "tags": []
          },
          "execution_count": 49
        }
      ]
    },
    {
      "cell_type": "code",
      "metadata": {
        "colab": {
          "base_uri": "https://localhost:8080/"
        },
        "id": "BQ2kPExlv9qX",
        "outputId": "10848057-7694-4f9c-ee8b-52d95ef2941c"
      },
      "source": [
        " pred = []\n",
        "# predictions of training data\n",
        "print(\"predicted\",\" original\")\n",
        "for i in range(0,len(data)):\n",
        "  pred.append(m*data_x[i] + c)\n",
        " \n",
        "pred"
      ],
      "execution_count": 50,
      "outputs": [
        {
          "output_type": "stream",
          "text": [
            "predicted  original\n"
          ],
          "name": "stdout"
        },
        {
          "output_type": "execute_result",
          "data": {
            "text/plain": [
              "[3.3999999999999844, 3.7999999999999927, 4.200000000000001, 4.60000000000001]"
            ]
          },
          "metadata": {
            "tags": []
          },
          "execution_count": 50
        }
      ]
    },
    {
      "cell_type": "code",
      "metadata": {
        "colab": {
          "base_uri": "https://localhost:8080/",
          "height": 236
        },
        "id": "kaAxjCOZwBWB",
        "outputId": "7eea8577-1827-4266-86a8-35ec48abcfea"
      },
      "source": [
        " plt.scatter(data_x,data_y,label=\"original data points\")\n",
        "plt.plot(data_x,pred,'orange',label=\"regression line using MGD\")\n",
        "plt.legend()\n",
        "plt.grid()\n",
        "plt.title(\"linear regression using momentum gradient descent\")\n",
        "plt.xlabel(\"data x\")\n",
        "plt.ylabel(\"data y\")\n",
        "plt.show()"
      ],
      "execution_count": 51,
      "outputs": [
        {
          "output_type": "display_data",
          "data": {
            "image/png": "[encoded data removed]",
            "text/plain": [
              "<Figure size 432x288 with 1 Axes>"
            ]
          },
          "metadata": {
            "tags": [],
            "needs_background": "light"
          }
        }
      ]
    }
  ]
}