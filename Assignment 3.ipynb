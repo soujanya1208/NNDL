{
  "nbformat": 4,
  "nbformat_minor": 0,
  "metadata": {
    "colab": {
      "name": "Welcome To Colaboratory",
      "provenance": [],
      "collapsed_sections": [],
      "include_colab_link": true
    },
    "kernelspec": {
      "display_name": "Python 3",
      "name": "python3"
    }
  },
  "cells": [
    {
      "cell_type": "markdown",
      "metadata": {
        "id": "view-in-github",
        "colab_type": "text"
      },
      "source": [
        "<a href=\"https://colab.research.google.com/github/soujanya1208/NNDL/blob/main/Assignment%203.ipynb\" target=\"_parent\"><img src=\"https://colab.research.google.com/assets/colab-badge.svg\" alt=\"Open In Colab\"/></a>"
      ]
    },
    {
      "cell_type": "code",
      "metadata": {
        "id": "MnpyHGBFtea9",
        "outputId": "743757dd-2271-43ba-f257-08664b509c0c",
        "colab": {
          "base_uri": "https://localhost:8080/",
          "height": 375
        }
      },
      "source": [
        " \n",
        "# importing all necessary packages\n",
        "import numpy as np\n",
        "import pandas as pd\n",
        "# a 4 row sample data set on which algorithm is trained\n",
        "data = [[0.2,3.4],[0.4,3.8],[0.6,4.2],[0.8,4.6]]\n",
        "data = np.array(data)\n",
        "# view of data\n",
        "print(data)\n",
        "# STEP 1: Reading data X and Y\n",
        "data_x = []\n",
        "data_y = []\n",
        "for i in range(0,len(data)):\n",
        "  data_x.append(data[i][0])\n",
        "for i in range(0,len(data)):\n",
        "  data_y.append(data[i][1])\n",
        "data_x=np.array(data_x)\n",
        "data_y=np.array(data_y)\n",
        "#STEP 2: initialising required parameters\n",
        "m = 1\n",
        "c = -1\n",
        "iter = 1\n",
        "epochs = 10000\n",
        "alpha = 0.1\n",
        "ns = len(data)\n",
        "error = []\n",
        "import matplotlib.pyplot as plt\n",
        "# while loop is runned until iter reaches epochs\n",
        "while (iter<=epochs):\n",
        "  # running for loop to calculate and update model parameters for each sample\n",
        "  for i in range(0,len(data)):\n",
        " \n",
        "    # calculating error and storing in an list\n",
        "    err = (0.5) * ((data_y[i] - (m * data_x[i]) - c))**2\n",
        "    error.append(err)\n",
        " \n",
        "    # calculating derivatives of m and c\n",
        "    der_m = (-1) * ((data_y[i] - (m * data_x[i]) - c ))*(data_x[i])\n",
        "    der_c = (-1) * (data_y[i] - (m * data_x[i]) - c )\n",
        " \n",
        "    # calculating change in m and c\n",
        "    change_m = (-1)*alpha*der_m\n",
        "    change_c = (-1)*alpha*der_c\n",
        " \n",
        "    #updating m and c\n",
        "    m = m + change_m\n",
        "    c = c + change_c\n",
        " \n",
        "    #incrementing no of iterations\n",
        "  iter = iter + 1\n",
        "print(m,c)\n",
        "# computing mean squared error\n",
        "mse = 0\n",
        "for i in range(0,len(data_x)):\n",
        "  mse += (data_y[i] - (m*data_x[i]) - c)**2\n",
        "mse = mse/len(data)\n",
        "print(mse)\n",
        "# error rate is minimised (in the form of exponential )\n",
        "pred = []\n",
        "for i in range(0,len(data)):\n",
        "  pred.append(m*data_x[i] + c)\n",
        "print(pred)\n",
        "plt.plot(data_x,data_y,'-',label=\"original data\")\n",
        "plt.scatter(data_x,pred,color='r',label=\"predicted data\")\n",
        "plt.grid()\n",
        "plt.title(\"Linear Regression using Stochastic Gradient Descent\")\n",
        "plt.xlabel(\"data x\")\n",
        "plt.ylabel(\"data y\")\n",
        "plt.legend()\n",
        "plt.show()"
      ],
      "execution_count": 40,
      "outputs": [
        {
          "output_type": "stream",
          "text": [
            "[[0.2 3.4]\n",
            " [0.4 3.8]\n",
            " [0.6 4.2]\n",
            " [0.8 4.6]]\n",
            "2.0000000000000426 2.9999999999999756\n",
            "9.929786644469486e-29\n",
            "[3.3999999999999844, 3.7999999999999927, 4.200000000000001, 4.60000000000001]\n"
          ],
          "name": "stdout"
        },
        {
          "output_type": "display_data",
          "data": {
            "image/png": "[encoded data removed]",
            "text/plain": [
              "<Figure size 432x288 with 1 Axes>"
            ]
          },
          "metadata": {
            "tags": [],
            "needs_background": "light"
          }
        }
      ]
    }
  ]
}